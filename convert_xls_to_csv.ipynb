{
 "cells": [
  {
   "cell_type": "code",
   "execution_count": null,
   "metadata": {},
   "outputs": [],
   "source": [
    "import xlrd\n",
    "import csv\n",
    "\n",
    "# Replace 'your_file.xls' with the actual path to your XLS file\n",
    "input_file = 'S&P Global High Yield Sukuk Index.xls'\n",
    "\n",
    "# Replace 'output.csv' with your desired output CSV filename\n",
    "output_file = 'S&P Global High Yield Sukuk Index.csv'\n",
    "\n",
    "# Open the XLS file using xlrd\n",
    "workbook = xlrd.open_workbook(input_file)\n",
    "\n",
    "# Get the first sheet (you can adjust the index to access a different sheet)\n",
    "sheet = workbook.sheet_by_index(0)\n",
    "\n",
    "# Open the output CSV file in write mode\n",
    "with open(output_file, 'w', newline='') as csvfile:\n",
    "  # Create a CSV writer object\n",
    "  writer = csv.writer(csvfile)\n",
    "\n",
    "  # Write the header row (optional, adjust column names if needed)\n",
    "  writer.writerow([sheet.cell_value(0, col) for col in range(sheet.ncols)])\n",
    "\n",
    "  # Write data rows\n",
    "  for row in range(1, sheet.nrows):\n",
    "    data = [sheet.cell_value(row, col) for col in range(sheet.ncols)]\n",
    "    writer.writerow(data)\n",
    "\n",
    "print(f'XLS file converted to CSV: {output_file}')"
   ]
  }
 ],
 "metadata": {
  "language_info": {
   "name": "python"
  }
 },
 "nbformat": 4,
 "nbformat_minor": 2
}
